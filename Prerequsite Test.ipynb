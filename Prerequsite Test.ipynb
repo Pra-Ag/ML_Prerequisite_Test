{
 "cells": [
  {
   "cell_type": "markdown",
   "id": "4f688fac",
   "metadata": {},
   "source": [
    "## Pratik Agrawal\n",
    "### ML Prerequiste Test Answers"
   ]
  },
  {
   "cell_type": "markdown",
   "id": "191af92a",
   "metadata": {},
   "source": [
    "### Ans Q1\n",
    "\n",
    "Multiplications involved in matrix multiplication between (n,k) & (k,m) matrix is **$n*m*k$** as we perform matrix multiplication from row to column. So, we have k row elements in first row of (n,k)matrix multiplied by k column elements in first column for (k,m)matrix these operations are k multiplications. For every n rows the similar operation is repeated that results in $k*n$ multiplications. The similar operation is done for next m columns in second matrix. Hence total number of multiplications are **$n*m*k$**.\n",
    "\n",
    "Additions involved in matrix multiplication when result multiples of row and column multiplication  in each element adds up. For first element in resultant matrix there was k multiplications, therefore $k-1$ additions. This process is done for all n rows in first matrix and m columns in second matrix. Therefore, total additions involved are **$(k-1)*n*m$**."
   ]
  },
  {
   "cell_type": "code",
   "execution_count": 3,
   "id": "2e8ff4ce",
   "metadata": {},
   "outputs": [],
   "source": [
    "import numpy as np\n",
    "import math\n",
    "import time"
   ]
  },
  {
   "cell_type": "markdown",
   "id": "0c244f11",
   "metadata": {},
   "source": [
    "### Ans Q2"
   ]
  },
  {
   "cell_type": "code",
   "execution_count": 21,
   "id": "edb3684e",
   "metadata": {},
   "outputs": [],
   "source": [
    "#matrix multiplication using list of lists\n",
    "#writing matrix multiplation function\n",
    "def mat_multiply(m1,m2):\n",
    "    n=len(m1)\n",
    "    k1=len(m1[0])\n",
    "    k2=len(m2)\n",
    "    if (k1!=k2):\n",
    "        return -1 #as multiplication not defined\n",
    "    m=len(m2[0])\n",
    "    ansmat = np.zeros((n,m))\n",
    "    for i in range(n):\n",
    "        for j in range(m):\n",
    "            for p in range(k1):\n",
    "                ansmat[i][j]+=(m1[i][p]*m2[p][j])\n",
    "    return ansmat"
   ]
  },
  {
   "cell_type": "code",
   "execution_count": 47,
   "id": "03059f9d",
   "metadata": {},
   "outputs": [
    {
     "name": "stdout",
     "output_type": "stream",
     "text": [
      "Matrix M1\n",
      " [[11 12  5 14 10 16 17 17  7 13]\n",
      " [13  3 14 10  2  7  0 18  9  7]\n",
      " [19  9  5 15  4  5  3  3  0  1]\n",
      " [ 3  5  7 14  8 17 10  3  3 11]\n",
      " [ 5  5 19 12 13 12 18  8 13 17]\n",
      " [ 0  6  4 19  1 19 19 15 17 15]\n",
      " [ 9 13 17  2 16 11  4  0 14 17]\n",
      " [ 5  0  7 13 17  7 15 11 10 12]] \n",
      "Matrix M2\n",
      " [[ 8 13 16  1  6 13 12  9 11  2 16 15]\n",
      " [ 2  8 13  1 12 18 14 18 12  6 10  4]\n",
      " [ 8  9 10 17 12 19  1 10 10  5 15 19]\n",
      " [ 0  1 12  8  0  6  4  8 11  8  6  9]\n",
      " [ 8 16  4  5 12  8  8  8  2 11  3 13]\n",
      " [13 15 18 18  4  7  4 17 15 17 16  8]\n",
      " [12  9  4 10 10  6 12  1 17  4 17  6]\n",
      " [15 19  4  7 14 14  0  1  2  3 18 11]\n",
      " [14 12  1  3 10 12 12 16 13 12 13  6]\n",
      " [ 4  2 19 14 10  2  5 11  4  8 18  5]]\n"
     ]
    }
   ],
   "source": [
    "#Define matrix m1,m2\n",
    "m1=np.random.randint(20, size=(8,10))\n",
    "m2=np.random.randint(20, size=(10,12))\n",
    "print(\"Matrix M1\\n\",m1, \"\\nMatrix M2\\n\",m2)"
   ]
  },
  {
   "cell_type": "code",
   "execution_count": 48,
   "id": "f09b196e",
   "metadata": {},
   "outputs": [
    {
     "name": "stdout",
     "output_type": "stream",
     "text": [
      "List Multiply time 0.0012021064758300781 \n",
      "Numpy multiply time 0.0\n",
      "Ans Matrix List\n",
      " [[1049. 1284. 1268. 1050. 1062. 1180.  858. 1118. 1195.  920. 1661. 1088.]\n",
      " [ 753.  930.  855.  721.  746.  988.  439.  765.  719.  553. 1193.  932.]\n",
      " [ 392.  604.  800.  408.  432.  723.  512.  637.  676.  395.  774.  699.]\n",
      " [ 626.  744.  953.  869.  608.  689.  512.  834.  847.  733. 1044.  730.]\n",
      " [1048. 1180. 1187. 1223. 1114. 1186.  806. 1150. 1202.  966. 1643. 1188.]\n",
      " [1050. 1094. 1130. 1129.  928.  997.  755. 1102. 1242.  987. 1625.  892.]\n",
      " [ 817. 1035. 1122.  925. 1000. 1117.  788. 1231.  962.  880. 1321. 1017.]\n",
      " [ 856. 1006.  842.  864.  870.  849.  643.  792.  862.  764. 1225.  933.]] \n",
      "Ans Matrix numpy\n",
      " [[1049 1284 1268 1050 1062 1180  858 1118 1195  920 1661 1088]\n",
      " [ 753  930  855  721  746  988  439  765  719  553 1193  932]\n",
      " [ 392  604  800  408  432  723  512  637  676  395  774  699]\n",
      " [ 626  744  953  869  608  689  512  834  847  733 1044  730]\n",
      " [1048 1180 1187 1223 1114 1186  806 1150 1202  966 1643 1188]\n",
      " [1050 1094 1130 1129  928  997  755 1102 1242  987 1625  892]\n",
      " [ 817 1035 1122  925 1000 1117  788 1231  962  880 1321 1017]\n",
      " [ 856 1006  842  864  870  849  643  792  862  764 1225  933]]\n"
     ]
    }
   ],
   "source": [
    "#time using function\n",
    "start_time=time.time()\n",
    "anslst=mat_multiply(m1,m2)\n",
    "end_time=time.time()\n",
    "time_list=end_time-start_time\n",
    "#time using np multiply\n",
    "start_time=time.time()\n",
    "ans_np=np.matmul(m1,m2)\n",
    "end_time=time.time()\n",
    "time_np=end_time-start_time\n",
    "print(\"List Multiply time\",time_list,\"\\nNumpy multiply time\",time_np)\n",
    "print(\"Ans Matrix List\\n\",anslst,\"\\nAns Matrix numpy\\n\",ans_np)"
   ]
  },
  {
   "cell_type": "markdown",
   "id": "3dea777f",
   "metadata": {},
   "source": [
    "Numpy matrix multiplication is faster than List matrix multiplication system. The time complexity of our list multiplication function is $O(n^3)$ but of numpy multiplication is about $O(n^{2.37})$(_as per wikipedia_), this makes operation very fast."
   ]
  },
  {
   "cell_type": "markdown",
   "id": "337e51de",
   "metadata": {},
   "source": [
    "### Ans Q3"
   ]
  },
  {
   "cell_type": "code",
   "execution_count": 214,
   "id": "a801ac29",
   "metadata": {},
   "outputs": [
    {
     "name": "stdout",
     "output_type": "stream",
     "text": [
      "[37 26 15 30 41 21 47  6 27 21 34  8 17 15 24  9 37 24 46 44 21 14  7 11\n",
      " 49 38  5  3 21 21 28  4 43  7 10 43 26  5 17  6 18 19 41 17  3 21 29 41\n",
      " 22  2  6 15 46 19 36  8 42 42 16 13 26 30 47 42 26  8 36 28  3 16  5 42\n",
      "  3  9 20 46  3 35 22 24  0 18  8  5 45 47 49 24 19 13 46 45 39 33  1 35\n",
      " 22 40  0 46 47 45 19 34 36 13 29 16 37 34 48 38 19  4 42 17  2  8 23  5\n",
      " 12  6 23 17 47  5  4 11 18 30  3 12  4 39 22 35 10  0 21 17 20 17 48 14\n",
      " 24  6  8 26  3 46 34  1 32 36  5 22  0  0 15  0 11 43 41 26  5 21 46  7\n",
      " 23 11 13  9 32 37  4 18 35 33 36 32 40 37 25 18  6 37  1 38 11 47  0  4\n",
      " 45  1 19 46  6 43 38 31]\n"
     ]
    }
   ],
   "source": [
    "#initializing random array for calculating median\n",
    "a = np.random.randint(50, size=200)\n",
    "print(a)"
   ]
  },
  {
   "cell_type": "code",
   "execution_count": 200,
   "id": "719011e9",
   "metadata": {},
   "outputs": [],
   "source": [
    "#writing function as in question\n",
    "def med_cal(arr,length):\n",
    "    med=0\n",
    "    for i in range(length):\n",
    "        m = arr[0]\n",
    "        idx = 0\n",
    "        #finding max elements order\n",
    "        for j in range(i,length):\n",
    "            if(arr[j]>m):\n",
    "                m=arr[j]\n",
    "                idx = j\n",
    "        #swaping larger values at begining\n",
    "        arr[idx],arr[i]=arr[i],arr[idx]\n",
    "    ##median of sorted array\n",
    "    mid = (int)(length/2)\n",
    "    if(length%2!=0):\n",
    "         med = arr[mid]\n",
    "    else:\n",
    "        med = (arr[mid-1]-arr[mid])/2 + arr[mid]\n",
    "        #med = (arr[mid-1]+arr[mid])/2\n",
    "    return med\n",
    "\n",
    "#compexity of the operation is o(n^2) as the sorting process taking o(n^2) time\n",
    "        "
   ]
  },
  {
   "cell_type": "code",
   "execution_count": 191,
   "id": "de645029",
   "metadata": {},
   "outputs": [],
   "source": [
    "##Better method than the one in question can be merge sort or quick sort that have a time complexity of o(nlog(n))\n",
    "## we use quicksort\n",
    "#code reference for quick sort:programiz.com\n",
    "def partition(arr,low,high):\n",
    "    pivot = arr[high]\n",
    "    \n",
    "    i = low-1\n",
    "    \n",
    "    for j in range(low,high):\n",
    "        if arr[j]<pivot:\n",
    "            i+=1\n",
    "            arr[i],arr[j]=arr[j],arr[i]\n",
    "            \n",
    "    arr[i+1],arr[high]=arr[high],arr[i+1]\n",
    "    return i+1\n",
    "\n",
    "def quicksort(arr,low,high):\n",
    "    if low<high:\n",
    "        pivot = partition(arr,low,high)\n",
    "        #quicksort on left of pivot\n",
    "        quicksort(arr,low,pivot-1)\n",
    "        #quicksort on right of pivot\n",
    "        quicksort(arr,pivot+1,high)\n",
    "\n",
    "        \n",
    "##median with quick sort\n",
    "\n",
    "def med_quick(arr,length):\n",
    "    quicksort(arr,0,length-1)\n",
    "    ##median of sorted array\n",
    "    mid = (int)(length/2)\n",
    "    if(length%2!=0):\n",
    "        med = arr[mid]\n",
    "    else:\n",
    "        \n",
    "        med = (arr[mid-1]-arr[mid])/2 + arr[mid]\n",
    "    return med\n"
   ]
  },
  {
   "cell_type": "code",
   "execution_count": 215,
   "id": "bae8d937",
   "metadata": {},
   "outputs": [
    {
     "name": "stdout",
     "output_type": "stream",
     "text": [
      "Median using method1  21.0  Time Taken  0.004002571105957031\n",
      "Median using method2  21.0  Time Taken  0.0019941329956054688\n",
      "Median using Numpy  21.0  Time Taken  0.0\n"
     ]
    }
   ],
   "source": [
    "##comparing three methods\n",
    "\n",
    "##method 1\n",
    "start = time.time()\n",
    "med1=med_cal(a,200)\n",
    "end = time.time()\n",
    "m1_time = end-start\n",
    "print(\"Median using method1 \",med1,\" Time Taken \",m1_time)\n",
    "##method 2\n",
    "start = time.time()\n",
    "med2=med_quick(a,200)\n",
    "end = time.time()\n",
    "m2_time = end-start\n",
    "print(\"Median using method2 \",med2,\" Time Taken \",m2_time)\n",
    "#np method\n",
    "start = time.time()\n",
    "med3=np.median(a)\n",
    "end = time.time()\n",
    "m3_time = end-start\n",
    "print(\"Median using Numpy \",med3,\" Time Taken \",m3_time)"
   ]
  },
  {
   "cell_type": "markdown",
   "id": "4f217871",
   "metadata": {},
   "source": [
    "Numpy median calculation is the fastest, followed when sorting by quicksort and then method given in question <br>\n",
    "Avg. time complexity of quicksort is nlog(n), which made it faster than method described in question"
   ]
  },
  {
   "cell_type": "markdown",
   "id": "3fadc0e3",
   "metadata": {},
   "source": [
    "### Ans Q4\n",
    "Gradient of function wrt x = $ 2xy + y^3cos(x)$ <br>\n",
    "Gradient of function wrt y = $x^2+ 3y^2sin(x)$"
   ]
  },
  {
   "cell_type": "markdown",
   "id": "97c5c239",
   "metadata": {},
   "source": [
    "### Ans Q5"
   ]
  },
  {
   "cell_type": "code",
   "execution_count": 59,
   "id": "ad4ef57a",
   "metadata": {},
   "outputs": [],
   "source": [
    "from jax import grad\n",
    "import jax.numpy as jnp"
   ]
  },
  {
   "cell_type": "code",
   "execution_count": 170,
   "id": "9474b7d8",
   "metadata": {},
   "outputs": [
    {
     "name": "stdout",
     "output_type": "stream",
     "text": [
      "Values using jax =  3.5838532 6.727892 \n",
      "Values of calculated gradient=  3.5838531634528574 6.727892280477045\n"
     ]
    }
   ],
   "source": [
    "def f(x,y):\n",
    "    return x*x*y+y**3*jnp.sin(x)\n",
    "df_dx = grad(f,argnums=0)\n",
    "df_dy = grad(f,argnums=1)\n",
    "##random value x=2,y=1\n",
    "##using calculated gradient\n",
    "a=2*2*1+1**3*math.cos(2)\n",
    "b=2*2+3*1*1*math.sin(2)\n",
    "\n",
    "##using jax\n",
    "c=df_dx(2.0,1.0)\n",
    "d=df_dy(2.0,1.0)\n",
    "\n",
    "print(\"Values using jax = \",c,d,\"\\nValues of calculated gradient= \",a,b)\n"
   ]
  },
  {
   "cell_type": "markdown",
   "id": "b089e476",
   "metadata": {},
   "source": [
    "### Ans Q6"
   ]
  },
  {
   "cell_type": "code",
   "execution_count": 67,
   "id": "227793c0",
   "metadata": {},
   "outputs": [
    {
     "name": "stdout",
     "output_type": "stream",
     "text": [
      "Gradient of function wrt x = 2*x*y + y**3*cos(x) \n",
      "Gradient of function wrt y = x**2 + 3*y**2*sin(x)\n"
     ]
    }
   ],
   "source": [
    "from sympy import *\n",
    "x = Symbol('x')\n",
    "y = Symbol('y')\n",
    "ans1=diff(x*x*y+y*y*y*sin(x),x)\n",
    "ans2=diff(x*x*y+y*y*y*sin(x),y)\n",
    "print(\"Gradient of function wrt x =\",ans1,\"\\nGradient of function wrt y =\",ans2)"
   ]
  },
  {
   "cell_type": "markdown",
   "id": "083b0a32",
   "metadata": {},
   "source": [
    "### Ans Q7"
   ]
  },
  {
   "cell_type": "code",
   "execution_count": 74,
   "id": "c0cf5d7d",
   "metadata": {},
   "outputs": [
    {
     "name": "stdout",
     "output_type": "stream",
     "text": [
      "{2022: {'Branch 1': {'Roll Number': 1, 'Name': 'N', 'Marks': {'Maths:': 100, 'English:': 70}}, 'Branch 2': {'Roll Number': 1, 'Name': 'N', 'Marks': {'Maths:': 100, 'English:': 70}}}, 2023: {'Branch 1': {'Roll Number': 1, 'Name': 'N', 'Marks': {'Maths:': 100, 'English:': 70}}, 'Branch 2': {'Roll Number': 1, 'Name': 'N', 'Marks': {'Maths:': 100, 'English:': 70}}}, 2024: {'Branch 1': {'Roll Number': 1, 'Name': 'N', 'Marks': {'Maths:': 100, 'English:': 70}}, 'Branch 2': {'Roll Number': 1, 'Name': 'N', 'Marks': {'Maths:': 100, 'English:': 70}}}, 2025: {'Branch 1': {'Roll Number': 1, 'Name': 'N', 'Marks': {'Maths:': 100, 'English:': 70}}, 'Branch 2': {'Roll Number': 1, 'Name': 'N', 'Marks': {'Maths:': 100, 'English:': 70}}}}\n"
     ]
    }
   ],
   "source": [
    "Dict={\n",
    "    2022: {\"Branch 1\": {\"Roll Number\":1,\"Name\":\"N\",\"Marks\":{\"Maths:\":100,\"English:\":70}},\"Branch 2\":{\"Roll Number\":1,\"Name\":\"N\",\"Marks\":{\"Maths:\":100,\"English:\":70}}},\n",
    "    2023: {\"Branch 1\": {\"Roll Number\":1,\"Name\":\"N\",\"Marks\":{\"Maths:\":100,\"English:\":70}},\"Branch 2\":{\"Roll Number\":1,\"Name\":\"N\",\"Marks\":{\"Maths:\":100,\"English:\":70}}},\n",
    "    2024: {\"Branch 1\": {\"Roll Number\":1,\"Name\":\"N\",\"Marks\":{\"Maths:\":100,\"English:\":70}},\"Branch 2\":{\"Roll Number\":1,\"Name\":\"N\",\"Marks\":{\"Maths:\":100,\"English:\":70}}},\n",
    "    2025: {\"Branch 1\": {\"Roll Number\":1,\"Name\":\"N\",\"Marks\":{\"Maths:\":100,\"English:\":70}},\"Branch 2\":{\"Roll Number\":1,\"Name\":\"N\",\"Marks\":{\"Maths:\":100,\"English:\":70}}},\n",
    "}\n",
    "print(Dict)"
   ]
  },
  {
   "cell_type": "markdown",
   "id": "e017f0a0",
   "metadata": {},
   "source": [
    "### Ans Q8"
   ]
  },
  {
   "cell_type": "code",
   "execution_count": 165,
   "id": "ffc6b146",
   "metadata": {},
   "outputs": [],
   "source": [
    "class database:\n",
    "    class year:\n",
    "        def __init__(self,year):\n",
    "            self.year=year\n",
    "        class branch:\n",
    "            def __init__(self,branch):\n",
    "                self.branch=branch\n",
    "            class student:\n",
    "                def __init__(self,rollno,name):\n",
    "                    self.name=name\n",
    "                    self.rollno=rollno\n",
    "                class marks:\n",
    "                        def __init__(self,subject,number):\n",
    "                            self.subject=subject\n",
    "                            self.number=number\n",
    "    \n",
    "    \n",
    "        "
   ]
  },
  {
   "cell_type": "markdown",
   "id": "d350c784",
   "metadata": {},
   "source": [
    "### Ans Q9"
   ]
  },
  {
   "cell_type": "code",
   "execution_count": 75,
   "id": "4a932565",
   "metadata": {},
   "outputs": [],
   "source": [
    "import matplotlib.pyplot as plt"
   ]
  },
  {
   "cell_type": "code",
   "execution_count": 98,
   "id": "9c3c9d9e",
   "metadata": {},
   "outputs": [
    {
     "data": {
      "text/plain": [
       "Text(0.5, 1.0, 'y=exp(x)')"
      ]
     },
     "execution_count": 98,
     "metadata": {},
     "output_type": "execute_result"
    },
    {
     "data": {
      "image/png": "[encoded data removed]",
      "text/plain": [
       "<Figure size 1500x1500 with 7 Axes>"
      ]
     },
     "metadata": {},
     "output_type": "display_data"
    }
   ],
   "source": [
    "x= np.arange(0.5,100,0.5)\n",
    "fig, axs = plt.subplots(7,figsize=(15,15))\n",
    "\n",
    "#P1\n",
    "y1=x\n",
    "axs[0].plot(x,y1)\n",
    "axs[0].set_title(\"y=x\")\n",
    "#P2\n",
    "y2=x*x\n",
    "axs[1].plot(x,y2)\n",
    "axs[1].set_title(\"y=x^2\")\n",
    "#P1\n",
    "y3=x**3/100\n",
    "axs[2].plot(x,y3)\n",
    "axs[2].set_title(\"y=x^3/100\")\n",
    "#P1\n",
    "y4=np.sin(x)\n",
    "axs[3].plot(x,y4)\n",
    "axs[3].set_title(\"y=sin(x)\")\n",
    "#P1\n",
    "y5=np.sin(x)/x\n",
    "axs[4].plot(x,y5)\n",
    "axs[4].set_title(\"y=sin(x)/x\")\n",
    "#P1\n",
    "y6=np.log(x)\n",
    "axs[5].plot(x,y6)\n",
    "axs[5].set_title(\"y=log(x)\")\n",
    "#P1\n",
    "y7=np.exp(x)\n",
    "axs[6].plot(x,y7)\n",
    "axs[6].set_title(\"y=exp(x)\")\n"
   ]
  },
  {
   "cell_type": "markdown",
   "id": "4227e5e8",
   "metadata": {},
   "source": [
    "### Ans Q10"
   ]
  },
  {
   "cell_type": "code",
   "execution_count": 119,
   "id": "26844b41",
   "metadata": {},
   "outputs": [],
   "source": [
    "import pandas as pd"
   ]
  },
  {
   "cell_type": "code",
   "execution_count": 100,
   "id": "86eb61c8",
   "metadata": {},
   "outputs": [
    {
     "name": "stdout",
     "output_type": "stream",
     "text": [
      "[[1.12098218 1.16493761 1.91219792 1.87123593 1.99486048]\n",
      " [1.06887563 1.74812177 1.36401365 1.24995294 1.08227829]\n",
      " [1.73732912 1.92827679 1.93193117 1.59269536 1.01569592]\n",
      " [1.38480674 1.70747263 1.64318742 1.2153253  1.49918945]\n",
      " [1.72006219 1.44756413 1.13362345 1.79208098 1.18524013]\n",
      " [1.44376004 1.71148885 1.79870878 1.26956763 1.59461812]\n",
      " [1.17269127 1.86052117 1.09518323 1.28414502 1.7030627 ]\n",
      " [1.54812839 1.18290488 1.29426717 1.91043111 1.36126401]\n",
      " [1.3468644  1.68289221 1.10478188 1.14727819 1.95797699]\n",
      " [1.0866395  1.6625857  1.28226883 1.38032901 1.67156034]\n",
      " [1.39700131 1.09829347 1.05053772 1.10426162 1.29983307]\n",
      " [1.34353782 1.89190477 1.21361454 1.75710714 1.4945971 ]\n",
      " [1.20060453 1.62457442 1.58241708 1.97424932 1.74623925]\n",
      " [1.01558595 1.07713776 1.05333302 1.69615853 1.10223197]\n",
      " [1.456995   1.49186726 1.01018265 1.769175   1.62525206]\n",
      " [1.31365077 1.57976271 1.94583897 1.47889228 1.06527977]\n",
      " [1.96650866 1.28147522 1.6604314  1.49256405 1.97672551]\n",
      " [1.36116532 1.39112256 1.26673742 1.97738234 1.26885125]\n",
      " [1.7657656  1.63438081 1.68732037 1.22394034 1.40875716]\n",
      " [1.32384556 1.62210886 1.08333023 1.65314757 1.38967089]]\n"
     ]
    }
   ],
   "source": [
    "mat = 1 + np.random.rand(20,5)\n",
    "print(mat)"
   ]
  },
  {
   "cell_type": "code",
   "execution_count": 140,
   "id": "667ac472",
   "metadata": {},
   "outputs": [
    {
     "name": "stdout",
     "output_type": "stream",
     "text": [
      "           0         1         2         3         4\n",
      "0   1.120982  1.164938  1.912198  1.871236  1.994860\n",
      "1   1.068876  1.748122  1.364014  1.249953  1.082278\n",
      "2   1.737329  1.928277  1.931931  1.592695  1.015696\n",
      "3   1.384807  1.707473  1.643187  1.215325  1.499189\n",
      "4   1.720062  1.447564  1.133623  1.792081  1.185240\n",
      "5   1.443760  1.711489  1.798709  1.269568  1.594618\n",
      "6   1.172691  1.860521  1.095183  1.284145  1.703063\n",
      "7   1.548128  1.182905  1.294267  1.910431  1.361264\n",
      "8   1.346864  1.682892  1.104782  1.147278  1.957977\n",
      "9   1.086639  1.662586  1.282269  1.380329  1.671560\n",
      "10  1.397001  1.098293  1.050538  1.104262  1.299833\n",
      "11  1.343538  1.891905  1.213615  1.757107  1.494597\n",
      "12  1.200605  1.624574  1.582417  1.974249  1.746239\n",
      "13  1.015586  1.077138  1.053333  1.696159  1.102232\n",
      "14  1.456995  1.491867  1.010183  1.769175  1.625252\n",
      "15  1.313651  1.579763  1.945839  1.478892  1.065280\n",
      "16  1.966509  1.281475  1.660431  1.492564  1.976726\n",
      "17  1.361165  1.391123  1.266737  1.977382  1.268851\n",
      "18  1.765766  1.634381  1.687320  1.223940  1.408757\n",
      "19  1.323846  1.622109  1.083330  1.653148  1.389671\n"
     ]
    }
   ],
   "source": [
    "df =pd.DataFrame(mat)\n",
    "print(df)"
   ]
  },
  {
   "cell_type": "code",
   "execution_count": 141,
   "id": "43d765e8",
   "metadata": {},
   "outputs": [
    {
     "name": "stdout",
     "output_type": "stream",
     "text": [
      "           a         b         c         d         e\n",
      "0   1.120982  1.164938  1.912198  1.871236  1.994860\n",
      "1   1.068876  1.748122  1.364014  1.249953  1.082278\n",
      "2   1.737329  1.928277  1.931931  1.592695  1.015696\n",
      "3   1.384807  1.707473  1.643187  1.215325  1.499189\n",
      "4   1.720062  1.447564  1.133623  1.792081  1.185240\n",
      "5   1.443760  1.711489  1.798709  1.269568  1.594618\n",
      "6   1.172691  1.860521  1.095183  1.284145  1.703063\n",
      "7   1.548128  1.182905  1.294267  1.910431  1.361264\n",
      "8   1.346864  1.682892  1.104782  1.147278  1.957977\n",
      "9   1.086639  1.662586  1.282269  1.380329  1.671560\n",
      "10  1.397001  1.098293  1.050538  1.104262  1.299833\n",
      "11  1.343538  1.891905  1.213615  1.757107  1.494597\n",
      "12  1.200605  1.624574  1.582417  1.974249  1.746239\n",
      "13  1.015586  1.077138  1.053333  1.696159  1.102232\n",
      "14  1.456995  1.491867  1.010183  1.769175  1.625252\n",
      "15  1.313651  1.579763  1.945839  1.478892  1.065280\n",
      "16  1.966509  1.281475  1.660431  1.492564  1.976726\n",
      "17  1.361165  1.391123  1.266737  1.977382  1.268851\n",
      "18  1.765766  1.634381  1.687320  1.223940  1.408757\n",
      "19  1.323846  1.622109  1.083330  1.653148  1.389671\n"
     ]
    }
   ],
   "source": [
    "df.columns = [\"a\",\"b\",\"c\",\"d\",\"e\"]\n",
    "print(df)"
   ]
  },
  {
   "cell_type": "code",
   "execution_count": 116,
   "id": "1654efab",
   "metadata": {},
   "outputs": [
    {
     "name": "stdout",
     "output_type": "stream",
     "text": [
      "column with highest SD =  c \n",
      "row with lowest mean =  13\n"
     ]
    }
   ],
   "source": [
    "min_mean=1000\n",
    "max_std=0\n",
    "row=0\n",
    "col=0\n",
    "for i in range(len(df)):\n",
    "    mean=df.iloc[i].mean()\n",
    "    if (min_mean>mean):\n",
    "        min_mean=mean\n",
    "        row=i\n",
    "\n",
    "for i in df.columns:\n",
    "    std = df[i].std()\n",
    "    if (max_std<std):\n",
    "        max_std=std\n",
    "        col=i\n",
    "print(\"column with highest SD = \",col,\"\\nrow with lowest mean = \",row)"
   ]
  },
  {
   "cell_type": "markdown",
   "id": "0536453f",
   "metadata": {},
   "source": [
    "### Ans Q11"
   ]
  },
  {
   "cell_type": "code",
   "execution_count": 145,
   "id": "5686002d",
   "metadata": {},
   "outputs": [
    {
     "name": "stdout",
     "output_type": "stream",
     "text": [
      "           a         b         c         d         e         f\n",
      "0   1.120982  1.164938  1.912198  1.871236  1.994860  8.064214\n",
      "1   1.068876  1.748122  1.364014  1.249953  1.082278  6.513242\n",
      "2   1.737329  1.928277  1.931931  1.592695  1.015696  8.205928\n",
      "3   1.384807  1.707473  1.643187  1.215325  1.499189  7.449982\n",
      "4   1.720062  1.447564  1.133623  1.792081  1.185240  7.278571\n",
      "5   1.443760  1.711489  1.798709  1.269568  1.594618  7.818143\n",
      "6   1.172691  1.860521  1.095183  1.284145  1.703063  7.115603\n",
      "7   1.548128  1.182905  1.294267  1.910431  1.361264  7.296996\n",
      "8   1.346864  1.682892  1.104782  1.147278  1.957977  7.239794\n",
      "9   1.086639  1.662586  1.282269  1.380329  1.671560  7.083383\n",
      "10  1.397001  1.098293  1.050538  1.104262  1.299833  5.949927\n",
      "11  1.343538  1.891905  1.213615  1.757107  1.494597  7.700761\n",
      "12  1.200605  1.624574  1.582417  1.974249  1.746239  8.128085\n",
      "13  1.015586  1.077138  1.053333  1.696159  1.102232  5.944447\n",
      "14  1.456995  1.491867  1.010183  1.769175  1.625252  7.353472\n",
      "15  1.313651  1.579763  1.945839  1.478892  1.065280  7.383424\n",
      "16  1.966509  1.281475  1.660431  1.492564  1.976726  8.377705\n",
      "17  1.361165  1.391123  1.266737  1.977382  1.268851  7.265259\n",
      "18  1.765766  1.634381  1.687320  1.223940  1.408757  7.720164\n",
      "19  1.323846  1.622109  1.083330  1.653148  1.389671  7.072103\n"
     ]
    }
   ],
   "source": [
    "#Adding null column f\n",
    "df[\"f\"]=np.nan\n",
    "df['f']=df.sum(axis=1)\n",
    "print(df)"
   ]
  },
  {
   "cell_type": "code",
   "execution_count": 146,
   "id": "79391a1e",
   "metadata": {},
   "outputs": [
    {
     "name": "stdout",
     "output_type": "stream",
     "text": [
      "           a         b         c         d         e         f    g\n",
      "0   1.120982  1.164938  1.912198  1.871236  1.994860  8.064214  GT8\n",
      "1   1.068876  1.748122  1.364014  1.249953  1.082278  6.513242  LT8\n",
      "2   1.737329  1.928277  1.931931  1.592695  1.015696  8.205928  GT8\n",
      "3   1.384807  1.707473  1.643187  1.215325  1.499189  7.449982  LT8\n",
      "4   1.720062  1.447564  1.133623  1.792081  1.185240  7.278571  LT8\n",
      "5   1.443760  1.711489  1.798709  1.269568  1.594618  7.818143  LT8\n",
      "6   1.172691  1.860521  1.095183  1.284145  1.703063  7.115603  LT8\n",
      "7   1.548128  1.182905  1.294267  1.910431  1.361264  7.296996  LT8\n",
      "8   1.346864  1.682892  1.104782  1.147278  1.957977  7.239794  LT8\n",
      "9   1.086639  1.662586  1.282269  1.380329  1.671560  7.083383  LT8\n",
      "10  1.397001  1.098293  1.050538  1.104262  1.299833  5.949927  LT8\n",
      "11  1.343538  1.891905  1.213615  1.757107  1.494597  7.700761  LT8\n",
      "12  1.200605  1.624574  1.582417  1.974249  1.746239  8.128085  GT8\n",
      "13  1.015586  1.077138  1.053333  1.696159  1.102232  5.944447  LT8\n",
      "14  1.456995  1.491867  1.010183  1.769175  1.625252  7.353472  LT8\n",
      "15  1.313651  1.579763  1.945839  1.478892  1.065280  7.383424  LT8\n",
      "16  1.966509  1.281475  1.660431  1.492564  1.976726  8.377705  GT8\n",
      "17  1.361165  1.391123  1.266737  1.977382  1.268851  7.265259  LT8\n",
      "18  1.765766  1.634381  1.687320  1.223940  1.408757  7.720164  LT8\n",
      "19  1.323846  1.622109  1.083330  1.653148  1.389671  7.072103  LT8\n"
     ]
    }
   ],
   "source": [
    "df['g']=np.where(df['f']<8,'LT8','GT8')\n",
    "print(df)"
   ]
  },
  {
   "cell_type": "code",
   "execution_count": 155,
   "id": "1a0b1c1a",
   "metadata": {},
   "outputs": [
    {
     "name": "stdout",
     "output_type": "stream",
     "text": [
      "Standard deviation when value in g is LT8 =  0.5554579571435173 \n",
      "Standard deviation when value in g is GT8 =  0.1354978069957071\n"
     ]
    }
   ],
   "source": [
    "#Standard deviation when value in g is LT8\n",
    "std1=(df['f'].loc[df['g']=='LT8']).std()\n",
    "#Standard deviation when value in g is GT8\n",
    "std2=(df['f'].loc[df['g']=='GT8']).std()\n",
    "print(\"Standard deviation when value in g is LT8 = \",std1,\"\\nStandard deviation when value in g is GT8 = \",std2)"
   ]
  },
  {
   "cell_type": "markdown",
   "id": "61f6be40",
   "metadata": {},
   "source": [
    "### Ans Q12"
   ]
  },
  {
   "cell_type": "code",
   "execution_count": 171,
   "id": "0d7c7ac3",
   "metadata": {},
   "outputs": [
    {
     "name": "stdout",
     "output_type": "stream",
     "text": [
      "[ 6 10 12 16]\n"
     ]
    }
   ],
   "source": [
    "#declaring arrays\n",
    "a=np.array([1,2,3,4])\n",
    "b=np.array([5,8,9,12])\n",
    "#adding a+b\n",
    "c=a+b\n",
    "#this operation will not give any error since a and b both have (4,) shape\n",
    "print(c)"
   ]
  },
  {
   "cell_type": "code",
   "execution_count": 174,
   "id": "4f6f62fe",
   "metadata": {},
   "outputs": [
    {
     "name": "stdout",
     "output_type": "stream",
     "text": [
      "[[ 7  8  9 10]\n",
      " [ 9 10 11 12]\n",
      " [16 17 18 19]]\n"
     ]
    }
   ],
   "source": [
    "#declaring other array d\n",
    "d=np.array([[6],[8],[15]])\n",
    "#adding d and a\n",
    "e = a + d\n",
    "#this operation is performed as here a has (4,1) shape, i.e 1 dimension towards right\n",
    "print(e)"
   ]
  },
  {
   "cell_type": "markdown",
   "id": "b8bb08a7",
   "metadata": {},
   "source": [
    "### Ans Q13"
   ]
  },
  {
   "cell_type": "code",
   "execution_count": 156,
   "id": "a8d806a6",
   "metadata": {},
   "outputs": [],
   "source": [
    "def arg_min(arr,length):\n",
    "    idx=0\n",
    "    min_ele=arr[0]\n",
    "    for i in range(length):\n",
    "        if (arr[i]<min_ele):\n",
    "            min_ele=arr[i]\n",
    "            idx=i\n",
    "    return idx"
   ]
  },
  {
   "cell_type": "code",
   "execution_count": 161,
   "id": "9592aa6b",
   "metadata": {},
   "outputs": [
    {
     "name": "stdout",
     "output_type": "stream",
     "text": [
      "[15 23 13  3 23 17 18 10  7 15  9 22 19  9  2  6  9 24 15 11]\n"
     ]
    }
   ],
   "source": [
    "#generating random array\n",
    "a = np.random.randint(25, size=20)\n",
    "print(a)"
   ]
  },
  {
   "cell_type": "code",
   "execution_count": 162,
   "id": "1b9a6341",
   "metadata": {},
   "outputs": [
    {
     "name": "stdout",
     "output_type": "stream",
     "text": [
      "Array index of minimun index using custom function =  14 \n",
      "Array index of min index using argmin =  14\n"
     ]
    }
   ],
   "source": [
    "#using argmin function\n",
    "min_argmin = np.argmin(a)\n",
    "min_fn = arg_min(a,20)\n",
    "print(\"Array index of minimun index using custom function = \",min_fn,\"\\nArray index of min index using argmin = \",min_argmin)"
   ]
  }
 ],
 "metadata": {
  "kernelspec": {
   "display_name": "Python 3 (ipykernel)",
   "language": "python",
   "name": "python3"
  },
  "language_info": {
   "codemirror_mode": {
    "name": "ipython",
    "version": 3
   },
   "file_extension": ".py",
   "mimetype": "text/x-python",
   "name": "python",
   "nbconvert_exporter": "python",
   "pygments_lexer": "ipython3",
   "version": "3.11.5"
  }
 },
 "nbformat": 4,
 "nbformat_minor": 5
}
